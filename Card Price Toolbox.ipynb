{
 "cells": [
  {
   "cell_type": "code",
   "execution_count": 3,
   "metadata": {},
   "outputs": [],
   "source": [
    "import pandas as pd\n",
    "import numpy as np\n",
    "import time\n",
    "\n",
    "# Selenium imports\n",
    "from selenium import webdriver\n",
    "from selenium.webdriver.common.by import By\n",
    "from selenium.webdriver.common.keys import Keys\n",
    "from selenium.webdriver.support.ui import WebDriverWait\n",
    "from selenium.webdriver.support import expected_conditions as EC\n",
    "\n",
    "# yugioh module\n",
    "from yugioh.yugioh import ygfandom"
   ]
  },
  {
   "cell_type": "code",
   "execution_count": 4,
   "metadata": {},
   "outputs": [],
   "source": [
    "driver = webdriver.Chrome('yugioh/External Applications/chromedriver.exe')"
   ]
  },
  {
   "cell_type": "code",
   "execution_count": 5,
   "metadata": {},
   "outputs": [],
   "source": [
    "driver.get('https://www.tcgplayer.com/')"
   ]
  },
  {
   "cell_type": "code",
   "execution_count": 6,
   "metadata": {},
   "outputs": [
    {
     "data": {
      "text/plain": [
       "'TCGplayer.com: Online Store for Magic: The Gathering, Yugioh, Cards, Sets, Packs, and Booster Boxes'"
      ]
     },
     "execution_count": 6,
     "metadata": {},
     "output_type": "execute_result"
    }
   ],
   "source": [
    "driver.title"
   ]
  },
  {
   "cell_type": "code",
   "execution_count": 10,
   "metadata": {},
   "outputs": [
    {
     "name": "stdout",
     "output_type": "stream",
     "text": [
      "asdgs\n",
      "sdggdf\n"
     ]
    }
   ],
   "source": [
    "u = ['ASDGS', 'sdgGDF']\n",
    "for i in u:\n",
    "    print(i.lower())"
   ]
  },
  {
   "cell_type": "code",
   "execution_count": 22,
   "metadata": {},
   "outputs": [],
   "source": [
    "a = ['sgdsdg', 'bob', 'cat', 'bob']"
   ]
  },
  {
   "cell_type": "code",
   "execution_count": 23,
   "metadata": {},
   "outputs": [],
   "source": [
    "#a.pop(a.index('bob'))\n",
    "a.remove('bob')"
   ]
  },
  {
   "cell_type": "code",
   "execution_count": 24,
   "metadata": {},
   "outputs": [
    {
     "data": {
      "text/plain": [
       "['sgdsdg', 'cat', 'bob']"
      ]
     },
     "execution_count": 24,
     "metadata": {},
     "output_type": "execute_result"
    }
   ],
   "source": [
    "a"
   ]
  },
  {
   "cell_type": "code",
   "execution_count": 2,
   "metadata": {},
   "outputs": [],
   "source": [
    "duelist = ygfandom.DbHandler()"
   ]
  },
  {
   "cell_type": "code",
   "execution_count": 11,
   "metadata": {},
   "outputs": [
    {
     "data": {
      "text/plain": [
       "{' ', 'C', 'D', 'a', 'b', 'e', 'g', 'n', 'o', 'r', 'y'}"
      ]
     },
     "execution_count": 11,
     "metadata": {},
     "output_type": "execute_result"
    }
   ],
   "source": [
    "set('Cyber Dragon')"
   ]
  },
  {
   "cell_type": "code",
   "execution_count": 3,
   "metadata": {},
   "outputs": [
    {
     "name": "stdout",
     "output_type": "stream",
     "text": [
      "Help on module yugioh.ygfandom in yugioh:\n",
      "\n",
      "NAME\n",
      "    yugioh.ygfandom - Created on Thu Jul 30 18:06:24 2020\n",
      "\n",
      "DESCRIPTION\n",
      "    Author: Jordan Tanudjaja\n",
      "    \n",
      "    Python module for anything related to yugioh in (https://yugioh.fandom.com)\n",
      "    and the 'Yugioh Card Database.csv' file that was initialized on July 29 2020 in this directory.\n",
      "    Banlist source is taken from (https://www.yugioh-card.com/uk/gameplay/detail.php?id=1155)\n",
      "\n",
      "CLASSES\n",
      "    builtins.object\n",
      "        DbHandler\n",
      "        YgScraper\n",
      "    \n",
      "    class DbHandler(builtins.object)\n",
      "     |  DbHandler(database_filepath='yugioh/Data/Yugioh Card Database.csv')\n",
      "     |  \n",
      "     |  Class for handling and manipulating the yugioh card database\n",
      "     |  \n",
      "     |  Methods defined here:\n",
      "     |  \n",
      "     |  __init__(self, database_filepath='yugioh/Data/Yugioh Card Database.csv')\n",
      "     |      Parameters:\n",
      "     |      -----------\n",
      "     |      database_filepath: str\n",
      "     |          Default value: 'yugioh/Data/Yugioh Card Database.csv'\n",
      "     |          The value has to be in a CSV format, and the default path leads to a\n",
      "     |          file that contains all the information of yugioh cards up to the current meta\n",
      "     |      \n",
      "     |      Variables:\n",
      "     |      ----------\n",
      "     |      Public:\n",
      "     |          database_filepath: str\n",
      "     |              The filepath that leads to the specified Yugioh Card Database\n",
      "     |      \n",
      "     |      Private:\n",
      "     |          card_database: DataFrame()\n",
      "     |              The Yugioh Card Database that is read from the database_filepath\n",
      "     |  \n",
      "     |  add_card(self, card_dict)\n",
      "     |      Returns the updated database after a successful addition of a new card, otherwise, it will not\n",
      "     |      return anything\n",
      "     |      \n",
      "     |      Parameters:\n",
      "     |      ----------\n",
      "     |      card_dict: dict\n",
      "     |          The card has to be in the dictionary format and thus the method, get_card_details, in the\n",
      "     |          WebScraper class has to be invoked on the specific card url first and return the value to\n",
      "     |          a local variable before invoking this method\n",
      "     |  \n",
      "     |  banlist_update(self, banlist_url='https://www.yugioh-card.com/uk/gameplay/detail.php?id=1155')\n",
      "     |      Method used to update the database with the up to date competitive status of cards in the banlist\n",
      "     |      \n",
      "     |      The method scrapes the data from the URL and cross-references it with the competitve status of the\n",
      "     |      cards in the current database, and updates them accordingly\n",
      "     |      \n",
      "     |      Bug: Some of the cards in this URL are not fully scraped by the method\n",
      "     |      \n",
      "     |      Parameters:\n",
      "     |      -----------\n",
      "     |      banlist_url: str\n",
      "     |          Default value: 'https://www.yugioh-card.com/uk/gameplay/detail.php?id=1155'\n",
      "     |          URL that contains the most recent banlist, and this method only works with the above URL and no\n",
      "     |          other URL\n",
      "     |  \n",
      "     |  get_card_database(self)\n",
      "     |      Returns the current database file in a DataFrame format\n",
      "     |  \n",
      "     |  locate_card(self, card_url)\n",
      "     |      Returns the current index of a specific card that already resides in the database, and returns\n",
      "     |      nothing if the card does not exist\n",
      "     |      \n",
      "     |      Parameters:\n",
      "     |      ----------\n",
      "     |      card_url: str\n",
      "     |          The card url has to be from https://yugioh.fandom.com and has to be a card URL, not a booster\n",
      "     |          pack URL or a deck URL\n",
      "     |  \n",
      "     |  regulatory_checkup(self)\n",
      "     |      Returns a dataframe that consist of cards that needs to be updated in the database or contain\n",
      "     |      erroneous values\n",
      "     |      \n",
      "     |      Errors are reflected in the Card Type column. If the Card Type of any card is not Monster, Spell\n",
      "     |      or Trap, then some kind of error is found when adding that card to the database\n",
      "     |  \n",
      "     |  save_card_database(self)\n",
      "     |      Method to save the database to the name of the csv file that was initialized at the start\n",
      "     |      of instantiation\n",
      "     |  \n",
      "     |  search_card_name(self, name)\n",
      "     |      Returns a dataframe of the cards that were searched, if the cards are not in the database,\n",
      "     |      of if there are errors, it will print out the name of the card that was erroneous\n",
      "     |      \n",
      "     |      Parameters:\n",
      "     |      -----------\n",
      "     |      name: str or list\n",
      "     |          name or names of the cards that are meant to be searched\n",
      "     |  \n",
      "     |  set_card_database(self, df)\n",
      "     |      Set method that sets the yugioh card database with a dataframe as its argument. It is used\n",
      "     |      to reflect any outside changes made to the database when assigning the database to\n",
      "     |      any outside variables in the first place\n",
      "     |      \n",
      "     |      Parameters:\n",
      "     |      -----------\n",
      "     |      df: DataFrame\n",
      "     |          The value has to be in a dataframe format, and it has to be yugioh related\n",
      "     |      \n",
      "     |          Bug: Currently, there is no way to check the dataframe inputted is a yugioh\n",
      "     |          related dataframe\n",
      "     |  \n",
      "     |  ----------------------------------------------------------------------\n",
      "     |  Data descriptors defined here:\n",
      "     |  \n",
      "     |  __dict__\n",
      "     |      dictionary for instance variables (if defined)\n",
      "     |  \n",
      "     |  __weakref__\n",
      "     |      list of weak references to the object (if defined)\n",
      "    \n",
      "    class YgScraper(builtins.object)\n",
      "     |  Class for scraping the https://yugioh.fandom website to get the URLs for cards from card sets URLs\n",
      "     |  and translating the information to a readable format\n",
      "     |  \n",
      "     |  Methods defined here:\n",
      "     |  \n",
      "     |  __init__(self)\n",
      "     |      Variables:\n",
      "     |      ---------\n",
      "     |      Public:\n",
      "     |          card_url_list: list\n",
      "     |              Holds the list of card URLs interested in scraping\n",
      "     |      \n",
      "     |      Private:\n",
      "     |          card_details = list of dictionaries\n",
      "     |              Holds the list of card details that were scraped from the urls in card_url_list, each card\n",
      "     |              detail is in the format of a dictionary\n",
      "     |  \n",
      "     |  add_card_urls(self, urls)\n",
      "     |      Method that adds any specified card urls to the current card_url_list\n",
      "     |      \n",
      "     |      Parameters:\n",
      "     |      -----------\n",
      "     |      urls: tuple of strings\n",
      "     |          Indiviual card url or multiple urls to be added into the current card_url_list\n",
      "     |  \n",
      "     |  get_card_details(self)\n",
      "     |      Returns the card details in a list format from the set_card_details method\n",
      "     |  \n",
      "     |  get_card_urls(self)\n",
      "     |      Returns the list of card urls that was initialized or added from the set_card_urls method\n",
      "     |  \n",
      "     |  set_card_details(self, url)\n",
      "     |      Set method that scrapes the card url in its argument and sets the details of the card to a\n",
      "     |      dictionary in a user-readable format\n",
      "     |      \n",
      "     |      Parameters:\n",
      "     |      -----------\n",
      "     |      url: str\n",
      "     |          This is the individual card url, each card url in https://yugioh.fandom follows a\n",
      "     |          more or less similar format that can be scraped using the algorithm below\n",
      "     |  \n",
      "     |  set_card_urls(self, card_set_url)\n",
      "     |      Set method that scrapes a card set URL (packs, decks, reprint sets, tins) and sets all the urls of\n",
      "     |      each card from the card set in a list format to the object variable, card_url_list\n",
      "     |      \n",
      "     |      This is an automatic way of getting the card urls of cards in a set rather than appending each\n",
      "     |      individual card urls to the list one by one\n",
      "     |      \n",
      "     |      Parameters:\n",
      "     |      -----------\n",
      "     |      card_set_url: str\n",
      "     |          The url of the card set, it has to be a card set, and not an individual card\n",
      "     |  \n",
      "     |  ----------------------------------------------------------------------\n",
      "     |  Data descriptors defined here:\n",
      "     |  \n",
      "     |  __dict__\n",
      "     |      dictionary for instance variables (if defined)\n",
      "     |  \n",
      "     |  __weakref__\n",
      "     |      list of weak references to the object (if defined)\n",
      "\n",
      "FILE\n",
      "    c:\\users\\jorda\\onedrive\\desktop\\personal projects\\yugioh web scraper\\yugioh\\ygfandom.py\n",
      "\n",
      "\n"
     ]
    }
   ],
   "source": [
    "help(ygfandom)"
   ]
  },
  {
   "cell_type": "code",
   "execution_count": 3,
   "metadata": {
    "scrolled": true
   },
   "outputs": [
    {
     "data": {
      "text/html": [
       "<div>\n",
       "<style scoped>\n",
       "    .dataframe tbody tr th:only-of-type {\n",
       "        vertical-align: middle;\n",
       "    }\n",
       "\n",
       "    .dataframe tbody tr th {\n",
       "        vertical-align: top;\n",
       "    }\n",
       "\n",
       "    .dataframe thead th {\n",
       "        text-align: right;\n",
       "    }\n",
       "</style>\n",
       "<table border=\"1\" class=\"dataframe\">\n",
       "  <thead>\n",
       "    <tr style=\"text-align: right;\">\n",
       "      <th></th>\n",
       "      <th>Card Name</th>\n",
       "      <th>Card Type</th>\n",
       "      <th>Spell/Trap Property</th>\n",
       "      <th>Attribute</th>\n",
       "      <th>Types</th>\n",
       "      <th>Level/Rank</th>\n",
       "      <th>ATK</th>\n",
       "      <th>DEF</th>\n",
       "      <th>LINK</th>\n",
       "      <th>Pendulum Scale</th>\n",
       "      <th>Card Description</th>\n",
       "      <th>Card/Attribute/Type Support</th>\n",
       "      <th>Direct Archetype &amp; Series Support</th>\n",
       "      <th>Indirect Archetype &amp; Series Support</th>\n",
       "      <th>Competitive Status (TCG Advanced)</th>\n",
       "      <th>Reference</th>\n",
       "    </tr>\n",
       "  </thead>\n",
       "  <tbody>\n",
       "    <tr>\n",
       "      <th>0</th>\n",
       "      <td>Divine Grace - Northwemko</td>\n",
       "      <td>Monster</td>\n",
       "      <td>N/A</td>\n",
       "      <td>LIGHT</td>\n",
       "      <td>Spellcaster / Ritual / Effect</td>\n",
       "      <td>7</td>\n",
       "      <td>2700</td>\n",
       "      <td>1200</td>\n",
       "      <td>N/A</td>\n",
       "      <td>N/A</td>\n",
       "      <td>This card can only be Ritual Summoned with the...</td>\n",
       "      <td>set()</td>\n",
       "      <td>set()</td>\n",
       "      <td>{'Djinn of Rituals'}</td>\n",
       "      <td>Unlimited</td>\n",
       "      <td>https://yugioh.fandom.com/wiki/Divine_Grace_-_...</td>\n",
       "    </tr>\n",
       "    <tr>\n",
       "      <th>1</th>\n",
       "      <td>Double Summon</td>\n",
       "      <td>Spell</td>\n",
       "      <td>Normal</td>\n",
       "      <td>N/A</td>\n",
       "      <td>N/A</td>\n",
       "      <td>N/A</td>\n",
       "      <td>N/A</td>\n",
       "      <td>N/A</td>\n",
       "      <td>N/A</td>\n",
       "      <td>N/A</td>\n",
       "      <td>You can conduct 2 Normal Summons/Sets this tur...</td>\n",
       "      <td>set()</td>\n",
       "      <td>set()</td>\n",
       "      <td>set()</td>\n",
       "      <td>Unlimited</td>\n",
       "      <td>https://yugioh.fandom.com/wiki/Double_Summon</td>\n",
       "    </tr>\n",
       "    <tr>\n",
       "      <th>2</th>\n",
       "      <td>Zoodiac Gathering</td>\n",
       "      <td>Trap</td>\n",
       "      <td>Continuous</td>\n",
       "      <td>N/A</td>\n",
       "      <td>N/A</td>\n",
       "      <td>N/A</td>\n",
       "      <td>N/A</td>\n",
       "      <td>N/A</td>\n",
       "      <td>N/A</td>\n",
       "      <td>N/A</td>\n",
       "      <td>If a \"Zoodiac\" Xyz Monster you control would d...</td>\n",
       "      <td>{'Xyz Monster'}</td>\n",
       "      <td>{'Zoodiac'}</td>\n",
       "      <td>set()</td>\n",
       "      <td>Unlimited</td>\n",
       "      <td>https://yugioh.fandom.com/wiki/Zoodiac_Gathering</td>\n",
       "    </tr>\n",
       "    <tr>\n",
       "      <th>3</th>\n",
       "      <td>The Legendary Exodia Incarnate</td>\n",
       "      <td>Monster</td>\n",
       "      <td>N/A</td>\n",
       "      <td>DARK</td>\n",
       "      <td>Spellcaster / Effect</td>\n",
       "      <td>10</td>\n",
       "      <td>?</td>\n",
       "      <td>0</td>\n",
       "      <td>N/A</td>\n",
       "      <td>N/A</td>\n",
       "      <td>Cannot be Normal Summoned/Set. Must be Special...</td>\n",
       "      <td>set()</td>\n",
       "      <td>{'Forbidden One', 'Exodia'}</td>\n",
       "      <td>set()</td>\n",
       "      <td>Unlimited</td>\n",
       "      <td>https://yugioh.fandom.com/wiki/The_Legendary_E...</td>\n",
       "    </tr>\n",
       "    <tr>\n",
       "      <th>4</th>\n",
       "      <td>Dark Designator</td>\n",
       "      <td>Spell</td>\n",
       "      <td>Normal</td>\n",
       "      <td>N/A</td>\n",
       "      <td>N/A</td>\n",
       "      <td>N/A</td>\n",
       "      <td>N/A</td>\n",
       "      <td>N/A</td>\n",
       "      <td>N/A</td>\n",
       "      <td>N/A</td>\n",
       "      <td>Declare 1 Monster Card name. If the declared c...</td>\n",
       "      <td>set()</td>\n",
       "      <td>{'Designator'}</td>\n",
       "      <td>set()</td>\n",
       "      <td>Unlimited</td>\n",
       "      <td>https://yugioh.fandom.com/wiki/Dark_Designator</td>\n",
       "    </tr>\n",
       "    <tr>\n",
       "      <th>...</th>\n",
       "      <td>...</td>\n",
       "      <td>...</td>\n",
       "      <td>...</td>\n",
       "      <td>...</td>\n",
       "      <td>...</td>\n",
       "      <td>...</td>\n",
       "      <td>...</td>\n",
       "      <td>...</td>\n",
       "      <td>...</td>\n",
       "      <td>...</td>\n",
       "      <td>...</td>\n",
       "      <td>...</td>\n",
       "      <td>...</td>\n",
       "      <td>...</td>\n",
       "      <td>...</td>\n",
       "      <td>...</td>\n",
       "    </tr>\n",
       "    <tr>\n",
       "      <th>10386</th>\n",
       "      <td>Iron Hans</td>\n",
       "      <td>Monster</td>\n",
       "      <td>N/A</td>\n",
       "      <td>EARTH</td>\n",
       "      <td>Warrior / Effect</td>\n",
       "      <td>4</td>\n",
       "      <td>1200</td>\n",
       "      <td>800</td>\n",
       "      <td>N/A</td>\n",
       "      <td>N/A</td>\n",
       "      <td>If this card is Summoned: You can Special Summ...</td>\n",
       "      <td>{'Iron Knight', 'Golden Castle of Stromberg'}</td>\n",
       "      <td>{'Fairy Tale'}</td>\n",
       "      <td>set()</td>\n",
       "      <td>Unlimited</td>\n",
       "      <td>https://yugioh.fandom.com/wiki/Iron_Hans</td>\n",
       "    </tr>\n",
       "    <tr>\n",
       "      <th>10387</th>\n",
       "      <td>Frightfur March</td>\n",
       "      <td>Trap</td>\n",
       "      <td>Counter</td>\n",
       "      <td>N/A</td>\n",
       "      <td>N/A</td>\n",
       "      <td>N/A</td>\n",
       "      <td>N/A</td>\n",
       "      <td>N/A</td>\n",
       "      <td>N/A</td>\n",
       "      <td>N/A</td>\n",
       "      <td>When an opponent's Spell/Trap Card, or monster...</td>\n",
       "      <td>{'Fusion Monster'}</td>\n",
       "      <td>{'Frightfur'}</td>\n",
       "      <td>set()</td>\n",
       "      <td>Unlimited</td>\n",
       "      <td>https://yugioh.fandom.com/wiki/Frightfur_March</td>\n",
       "    </tr>\n",
       "    <tr>\n",
       "      <th>10388</th>\n",
       "      <td>Shapesister</td>\n",
       "      <td>Trap</td>\n",
       "      <td>Continuous</td>\n",
       "      <td>N/A</td>\n",
       "      <td>N/A</td>\n",
       "      <td>N/A</td>\n",
       "      <td>N/A</td>\n",
       "      <td>N/A</td>\n",
       "      <td>N/A</td>\n",
       "      <td>N/A</td>\n",
       "      <td>Special Summon this card as a Normal Monster (...</td>\n",
       "      <td>set()</td>\n",
       "      <td>{'Trap Monster'}</td>\n",
       "      <td>set()</td>\n",
       "      <td>Unlimited</td>\n",
       "      <td>https://yugioh.fandom.com/wiki/Shapesister</td>\n",
       "    </tr>\n",
       "    <tr>\n",
       "      <th>10389</th>\n",
       "      <td>Gotterdammerung</td>\n",
       "      <td>Spell</td>\n",
       "      <td>Normal</td>\n",
       "      <td>N/A</td>\n",
       "      <td>N/A</td>\n",
       "      <td>N/A</td>\n",
       "      <td>N/A</td>\n",
       "      <td>N/A</td>\n",
       "      <td>N/A</td>\n",
       "      <td>N/A</td>\n",
       "      <td>Target 1 \"Aesir\" monster you control; give con...</td>\n",
       "      <td>set()</td>\n",
       "      <td>set()</td>\n",
       "      <td>set()</td>\n",
       "      <td>Unlimited</td>\n",
       "      <td>https://yugioh.fandom.com/wiki/Gotterdammerung</td>\n",
       "    </tr>\n",
       "    <tr>\n",
       "      <th>10390</th>\n",
       "      <td>Summon Sorceress</td>\n",
       "      <td>Monster</td>\n",
       "      <td>N/A</td>\n",
       "      <td>DARK</td>\n",
       "      <td>Spellcaster / Link / Effect</td>\n",
       "      <td>N/A</td>\n",
       "      <td>2400</td>\n",
       "      <td>N/A</td>\n",
       "      <td>3</td>\n",
       "      <td>N/A</td>\n",
       "      <td>2+ monsters with the same Type, except Tokens....</td>\n",
       "      <td>set()</td>\n",
       "      <td>set()</td>\n",
       "      <td>set()</td>\n",
       "      <td>Forbidden</td>\n",
       "      <td>https://yugioh.fandom.com/wiki/Summon_Sorceress</td>\n",
       "    </tr>\n",
       "  </tbody>\n",
       "</table>\n",
       "<p>10391 rows × 16 columns</p>\n",
       "</div>"
      ],
      "text/plain": [
       "                            Card Name Card Type Spell/Trap Property Attribute  \\\n",
       "0           Divine Grace - Northwemko   Monster                 N/A     LIGHT   \n",
       "1                       Double Summon     Spell              Normal       N/A   \n",
       "2                   Zoodiac Gathering      Trap          Continuous       N/A   \n",
       "3      The Legendary Exodia Incarnate   Monster                 N/A      DARK   \n",
       "4                     Dark Designator     Spell              Normal       N/A   \n",
       "...                               ...       ...                 ...       ...   \n",
       "10386                       Iron Hans   Monster                 N/A     EARTH   \n",
       "10387                 Frightfur March      Trap             Counter       N/A   \n",
       "10388                     Shapesister      Trap          Continuous       N/A   \n",
       "10389                 Gotterdammerung     Spell              Normal       N/A   \n",
       "10390                Summon Sorceress   Monster                 N/A      DARK   \n",
       "\n",
       "                               Types Level/Rank   ATK   DEF LINK  \\\n",
       "0      Spellcaster / Ritual / Effect          7  2700  1200  N/A   \n",
       "1                                N/A        N/A   N/A   N/A  N/A   \n",
       "2                                N/A        N/A   N/A   N/A  N/A   \n",
       "3               Spellcaster / Effect         10     ?     0  N/A   \n",
       "4                                N/A        N/A   N/A   N/A  N/A   \n",
       "...                              ...        ...   ...   ...  ...   \n",
       "10386               Warrior / Effect          4  1200   800  N/A   \n",
       "10387                            N/A        N/A   N/A   N/A  N/A   \n",
       "10388                            N/A        N/A   N/A   N/A  N/A   \n",
       "10389                            N/A        N/A   N/A   N/A  N/A   \n",
       "10390    Spellcaster / Link / Effect        N/A  2400   N/A    3   \n",
       "\n",
       "      Pendulum Scale                                   Card Description  \\\n",
       "0                N/A  This card can only be Ritual Summoned with the...   \n",
       "1                N/A  You can conduct 2 Normal Summons/Sets this tur...   \n",
       "2                N/A  If a \"Zoodiac\" Xyz Monster you control would d...   \n",
       "3                N/A  Cannot be Normal Summoned/Set. Must be Special...   \n",
       "4                N/A  Declare 1 Monster Card name. If the declared c...   \n",
       "...              ...                                                ...   \n",
       "10386            N/A  If this card is Summoned: You can Special Summ...   \n",
       "10387            N/A  When an opponent's Spell/Trap Card, or monster...   \n",
       "10388            N/A  Special Summon this card as a Normal Monster (...   \n",
       "10389            N/A  Target 1 \"Aesir\" monster you control; give con...   \n",
       "10390            N/A  2+ monsters with the same Type, except Tokens....   \n",
       "\n",
       "                         Card/Attribute/Type Support  \\\n",
       "0                                              set()   \n",
       "1                                              set()   \n",
       "2                                    {'Xyz Monster'}   \n",
       "3                                              set()   \n",
       "4                                              set()   \n",
       "...                                              ...   \n",
       "10386  {'Iron Knight', 'Golden Castle of Stromberg'}   \n",
       "10387                             {'Fusion Monster'}   \n",
       "10388                                          set()   \n",
       "10389                                          set()   \n",
       "10390                                          set()   \n",
       "\n",
       "      Direct Archetype & Series Support Indirect Archetype & Series Support  \\\n",
       "0                                 set()                {'Djinn of Rituals'}   \n",
       "1                                 set()                               set()   \n",
       "2                           {'Zoodiac'}                               set()   \n",
       "3           {'Forbidden One', 'Exodia'}                               set()   \n",
       "4                        {'Designator'}                               set()   \n",
       "...                                 ...                                 ...   \n",
       "10386                    {'Fairy Tale'}                               set()   \n",
       "10387                     {'Frightfur'}                               set()   \n",
       "10388                  {'Trap Monster'}                               set()   \n",
       "10389                             set()                               set()   \n",
       "10390                             set()                               set()   \n",
       "\n",
       "      Competitive Status (TCG Advanced)  \\\n",
       "0                             Unlimited   \n",
       "1                             Unlimited   \n",
       "2                             Unlimited   \n",
       "3                             Unlimited   \n",
       "4                             Unlimited   \n",
       "...                                 ...   \n",
       "10386                         Unlimited   \n",
       "10387                         Unlimited   \n",
       "10388                         Unlimited   \n",
       "10389                         Unlimited   \n",
       "10390                         Forbidden   \n",
       "\n",
       "                                               Reference  \n",
       "0      https://yugioh.fandom.com/wiki/Divine_Grace_-_...  \n",
       "1           https://yugioh.fandom.com/wiki/Double_Summon  \n",
       "2       https://yugioh.fandom.com/wiki/Zoodiac_Gathering  \n",
       "3      https://yugioh.fandom.com/wiki/The_Legendary_E...  \n",
       "4         https://yugioh.fandom.com/wiki/Dark_Designator  \n",
       "...                                                  ...  \n",
       "10386           https://yugioh.fandom.com/wiki/Iron_Hans  \n",
       "10387     https://yugioh.fandom.com/wiki/Frightfur_March  \n",
       "10388         https://yugioh.fandom.com/wiki/Shapesister  \n",
       "10389     https://yugioh.fandom.com/wiki/Gotterdammerung  \n",
       "10390    https://yugioh.fandom.com/wiki/Summon_Sorceress  \n",
       "\n",
       "[10391 rows x 16 columns]"
      ]
     },
     "execution_count": 3,
     "metadata": {},
     "output_type": "execute_result"
    }
   ],
   "source": [
    "duelist.get_card_database()"
   ]
  },
  {
   "cell_type": "code",
   "execution_count": 4,
   "metadata": {},
   "outputs": [],
   "source": [
    "#cards = [\"Sekka's Light\", 'Blackwing - Shura the Blue Flame', 'Maxx \"C\"']\n",
    "cards = ['Dark Simorgh', 'Cyber Dragon', 'Cyber Dragon']\n",
    "#cards = 'Cyber Dragon'"
   ]
  },
  {
   "cell_type": "code",
   "execution_count": 5,
   "metadata": {},
   "outputs": [
    {
     "name": "stdout",
     "output_type": "stream",
     "text": [
      "Are these the card(s) you are looking for? yrs\n"
     ]
    },
    {
     "data": {
      "text/plain": [
       "'yrs'"
      ]
     },
     "execution_count": 5,
     "metadata": {},
     "output_type": "execute_result"
    }
   ],
   "source": [
    "input('Are these the card(s) you are looking for? ')"
   ]
  },
  {
   "cell_type": "code",
   "execution_count": 6,
   "metadata": {},
   "outputs": [],
   "source": [
    "#sample_url, db_card_name = ('https://www.tcgplayer.com/search/yugioh/product?productLineName=yugioh&q=Blackwing%20-%20Shura%20the%20Blue%20Flame',\n",
    "#                            'Blackwing - Shura the Blue Flame')\n",
    "\n",
    "#sample_url, db_card_name = ('https://www.tcgplayer.com/search/yugioh/product?productLineName=yugioh&q=Mystical%20Space%20Typhoon',\n",
    "#                            'Mystical Space Typhoon')\n",
    "\n",
    "#sample_url, db_card_name = ('https://www.tcgplayer.com/search/all/product?q=maxx%20%22C%22', \n",
    "#                            'Maxx \"C\"')\n",
    "\n",
    "#sample_url, db_card_name = ('https://www.tcgplayer.com/search/all/product?q=sekka%27s%20light',\n",
    "#                            \"Sekka's Light\")"
   ]
  },
  {
   "cell_type": "code",
   "execution_count": 28,
   "metadata": {},
   "outputs": [],
   "source": [
    "class CardPriceScraper:\n",
    "    \"\"\"\n",
    "    Class that scrapes the https://www.tcgplayer.com website and manipulates the site using\n",
    "    Selenium to return the prices of whatever card the user is interested in looking at\n",
    "    \"\"\"\n",
    "    def __init__(self, PATH = 'C:\\Program Files (x86)\\Google\\Chrome\\Application\\chromedriver.exe'):\n",
    "        \"\"\"\n",
    "        Parameters:\n",
    "        -----------\n",
    "        PATH: str\n",
    "            Default value: 'C:\\Program Files (x86)\\Google\\Chrome\\Application\\chromedriver.exe'\n",
    "            \n",
    "            File path for the chromedriver executable file\n",
    "            \n",
    "        Variables:\n",
    "        ----------\n",
    "        Public:\n",
    "            driver: webdriver.Chrome()\n",
    "                The driver that opens the Chrome browser from the Selenium Package\n",
    "        \n",
    "        Private:\n",
    "            card_prices_df: DataFrame()\n",
    "                Dataframe that provides a list of price statistics for specified cards\n",
    "                \n",
    "            combined_df: DataFrame()\n",
    "                Dataframe that merges the card_prices_df and a subset of the yugioh card database\n",
    "                that includes the columns: Card Type, Competitive Status, and Reference\n",
    "        \"\"\"\n",
    "        self.driver = webdriver.Chrome(PATH)\n",
    "        self.driver.get('https://www.tcgplayer.com/')\n",
    "        self.__card_prices_df = pd.DataFrame()\n",
    "        self.__combined_df = pd.DataFrame()\n",
    "    \n",
    "    @staticmethod\n",
    "    def check_card_names(card_names, duelist):\n",
    "        \"\"\"\n",
    "        Returns a dataframe that consists of cards specified by card names and the Card Type, \n",
    "        Competitive Status and Reference columns of the Yugioh Card Database if they exist in the\n",
    "        database. If not, it returns an error and prints out which card name inputted is erroneous\n",
    "        \n",
    "        Static method to check the names of cards that are inputted and making sure they exist in\n",
    "        the Yugioh Card Database\n",
    "        \n",
    "        Parameters:\n",
    "        -----------\n",
    "        card_names: str or list\n",
    "            The name(s) of the cards that are to be searched and compared with the Yugioh Card Database.\n",
    "            Punctuation, upper and lower case letters, and spelling matters\n",
    "        \n",
    "        duelist: DbHandler()\n",
    "            User-defined object from ygfandom module. The method search_card_name from the object is \n",
    "            invoked here\n",
    "        \"\"\"\n",
    "        card_names = list(set(card_names))\n",
    "        tosearch_df = duelist.search_card_name(card_names)[['Card Name', 'Card Type', 'Competitive Status (TCG Advanced)', 'Reference']]\n",
    "        return tosearch_df\n",
    "    \n",
    "    def price_searcher(self, db_card_name):\n",
    "        \"\"\"\n",
    "            Returns a dictionary of price statistics of the card that has the same name as db_card_name \n",
    "            in the web page\n",
    "\n",
    "            Parameters:\n",
    "            -----------\n",
    "            db_card_name: str\n",
    "                card name of the card to be searched\n",
    "        \"\"\"\n",
    "        search = self.driver.find_element_by_id('autocomplete-input')\n",
    "        search.send_keys(db_card_name)\n",
    "        search.send_keys(Keys.RETURN)\n",
    "        \n",
    "        try:\n",
    "            # finding the number of results that appears at the bottom of the page\n",
    "            # because that takes the longest to load\n",
    "            results = WebDriverWait(self.driver, 3).until(\n",
    "                EC.presence_of_element_located((By.CLASS_NAME, 'results'))\n",
    "            )\n",
    "        except:\n",
    "            self.driver.quit()\n",
    "            print(f'{db_card_name} is not found in tcgplayer.com')\n",
    "            return None\n",
    "        else:\n",
    "            time.sleep(1) # Pausing script here for 1 second because the script moves too fast before\n",
    "                          # the web page can even load\n",
    "\n",
    "        # card_info shows the list of all cards in the page and only searching this 1 page,\n",
    "        # the code does not go into the next page eventhough there are cards in the next page\n",
    "        card_info = self.driver.find_elements_by_class_name('search-result__content')\n",
    "\n",
    "        market_price_list = []\n",
    "        lowest_price_list = []\n",
    "        for card in card_info:\n",
    "            name = card.find_element_by_class_name('search-result__title').text\n",
    "            if name == db_card_name:\n",
    "                try:\n",
    "                    market_price = card.find_element_by_class_name('search-result__market-price--value').text\n",
    "                    lowest_price = card.find_element_by_class_name('inventory__price-with-shipping').text        \n",
    "                except:\n",
    "                    pass\n",
    "                else:\n",
    "                    market_price_list.append(float(market_price.strip('$').replace(',', '')))\n",
    "                    lowest_price_list.append(float(lowest_price.strip('$').replace(',', '')))\n",
    "        all_price_list = market_price_list + lowest_price_list\n",
    "\n",
    "        avg_mkt_price = round(sum(market_price_list) / len(market_price_list), 2)\n",
    "        avg_lowest_price = round(sum(lowest_price_list) / len(lowest_price_list), 2)\n",
    "        cheapest_price = round(min(all_price_list), 2)\n",
    "        highest_price = round(max(all_price_list), 2)\n",
    "\n",
    "        price_stats = {'Average Market Price': avg_mkt_price,\n",
    "                       'Average Lowest Price': avg_lowest_price,\n",
    "                       'Cheapest Price': cheapest_price,\n",
    "                       'Highest Price': highest_price}\n",
    "        \n",
    "        search.send_keys(Keys.CONTROL + 'a')\n",
    "        search.send_keys(Keys.DELETE)\n",
    "\n",
    "        return price_stats\n",
    "    \n",
    "    \n",
    "    def set_card_prices(self, card_names, duelist):\n",
    "        \"\"\"\n",
    "        Set method that sets the card prices of the card names to be searched into a dataframe format\n",
    "        for readability and also sets a combined dataframe that merges the card price dataframe with\n",
    "        the subset of yugioh card database with columns: Card Type, Competitive Status, Reference\n",
    "        \n",
    "        Parameters:\n",
    "        -----------\n",
    "        card_names: str or list\n",
    "            The name(s) of the cards that are to be searched and compared with the Yugioh Card Database.\n",
    "            Punctuation, upper and lower case letters, and spelling matters\n",
    "        \n",
    "        duelist: DbHandler()\n",
    "            User-defined object from ygfandom module. The method search_card_name from the object is \n",
    "            invoked here\n",
    "        \"\"\"\n",
    "        try:\n",
    "            tosearch_df = self.check_card_names(card_names, duelist)\n",
    "        except:\n",
    "            print('Recheck your card names and make sure they are spelled correctly or in the database')\n",
    "        else:\n",
    "            card_prices = {}\n",
    "            for name in tosearch_df['Card Name'].unique():\n",
    "                card_prices[name] = self.price_searcher(name)\n",
    "            \n",
    "            self.__card_prices_df = pd.DataFrame.from_dict(card_prices, orient = 'index')\n",
    "            self.__combined_df = ( tosearch_df.merge(self.__card_prices_df, \n",
    "                                                    left_on = tosearch_df['Card Name'], \n",
    "                                                    right_on = self.__card_prices_df.index, \n",
    "                                                    how = 'left')\n",
    "                                              .drop(columns = ['key_0'])\n",
    "                                              .set_index('Card Name') )\n",
    "            \n",
    "    \n",
    "    def get_card_prices(self):\n",
    "        \"\"\"\n",
    "        Returns the card prices dataframe that only shows the price statistics of each card \n",
    "        that was successfully searched\n",
    "        \"\"\"\n",
    "        return self.__card_prices_df\n",
    "    \n",
    "    def get_combined_df(self):\n",
    "        \"\"\"\n",
    "        Returns the combined dataframe of the card prices dataframe and the subset of Yugioh Card\n",
    "        Database with columns: Card Type, Competitive Status, Reference\n",
    "        \"\"\"\n",
    "        return self.__combined_df\n",
    "    \n",
    "    def quit_browser(self):\n",
    "        \"\"\"\n",
    "        Method to quit the current browser\n",
    "        \n",
    "        WARNING: User cannot invoke the price_searcher method and set_card_prices method if the\n",
    "        browswer is closed. The restart_browser method will have to be invoked first to open\n",
    "        the browswer again\n",
    "        \"\"\"\n",
    "        try:\n",
    "            self.driver.get('https://www.tcgplayer.com')\n",
    "        except:\n",
    "            print('Broswer is already closed, unable to quit broswer that is no longer open')\n",
    "        else:\n",
    "            self.driver.quit()\n",
    "    \n",
    "    def restart_browser(self):\n",
    "        \"\"\"\n",
    "        Method to restart the browswer if it is closed or refreshes the page to the url: \n",
    "        https://www.tcgplayer.com from any url that it is currently in\n",
    "        \"\"\"\n",
    "        try:\n",
    "            self.driver.get('https://www.tcgplayer.com/')\n",
    "        except:\n",
    "            self.driver = webdriver.Chrome('C:\\Program Files (x86)\\Google\\Chrome\\Application\\chromedriver.exe')\n",
    "            self.driver.get('https://www.tcgplayer.com/')\n",
    "                          "
   ]
  },
  {
   "cell_type": "code",
   "execution_count": 29,
   "metadata": {},
   "outputs": [],
   "source": [
    "cards = ['Dark Simorgh', 'Cyber Dragon', 'Cyber Dragon']"
   ]
  },
  {
   "cell_type": "code",
   "execution_count": 30,
   "metadata": {},
   "outputs": [],
   "source": [
    "carder = CardPriceScraper()"
   ]
  },
  {
   "cell_type": "code",
   "execution_count": 8,
   "metadata": {
    "scrolled": false
   },
   "outputs": [
    {
     "data": {
      "text/html": [
       "<div>\n",
       "<style scoped>\n",
       "    .dataframe tbody tr th:only-of-type {\n",
       "        vertical-align: middle;\n",
       "    }\n",
       "\n",
       "    .dataframe tbody tr th {\n",
       "        vertical-align: top;\n",
       "    }\n",
       "\n",
       "    .dataframe thead th {\n",
       "        text-align: right;\n",
       "    }\n",
       "</style>\n",
       "<table border=\"1\" class=\"dataframe\">\n",
       "  <thead>\n",
       "    <tr style=\"text-align: right;\">\n",
       "      <th></th>\n",
       "      <th>Card Name</th>\n",
       "      <th>Card Type</th>\n",
       "      <th>Competitive Status (TCG Advanced)</th>\n",
       "      <th>Reference</th>\n",
       "    </tr>\n",
       "  </thead>\n",
       "  <tbody>\n",
       "    <tr>\n",
       "      <th>4466</th>\n",
       "      <td>Cyber Dragon</td>\n",
       "      <td>Monster</td>\n",
       "      <td>Unlimited</td>\n",
       "      <td>https://yugioh.fandom.com/wiki/Cyber_Dragon</td>\n",
       "    </tr>\n",
       "    <tr>\n",
       "      <th>7448</th>\n",
       "      <td>Dark Simorgh</td>\n",
       "      <td>Monster</td>\n",
       "      <td>Unlimited</td>\n",
       "      <td>https://yugioh.fandom.com/wiki/Dark_Simorgh</td>\n",
       "    </tr>\n",
       "  </tbody>\n",
       "</table>\n",
       "</div>"
      ],
      "text/plain": [
       "         Card Name Card Type Competitive Status (TCG Advanced)  \\\n",
       "4466  Cyber Dragon   Monster                         Unlimited   \n",
       "7448  Dark Simorgh   Monster                         Unlimited   \n",
       "\n",
       "                                        Reference  \n",
       "4466  https://yugioh.fandom.com/wiki/Cyber_Dragon  \n",
       "7448  https://yugioh.fandom.com/wiki/Dark_Simorgh  "
      ]
     },
     "execution_count": 8,
     "metadata": {},
     "output_type": "execute_result"
    }
   ],
   "source": [
    "carder.check_card_names(cards, duelist)"
   ]
  },
  {
   "cell_type": "code",
   "execution_count": 31,
   "metadata": {
    "scrolled": false
   },
   "outputs": [
    {
     "data": {
      "text/plain": [
       "{'Average Market Price': 3.04,\n",
       " 'Average Lowest Price': 1.32,\n",
       " 'Cheapest Price': 0.05,\n",
       " 'Highest Price': 12.91}"
      ]
     },
     "execution_count": 31,
     "metadata": {},
     "output_type": "execute_result"
    }
   ],
   "source": [
    "carder.price_searcher('Cyber Dragon')"
   ]
  },
  {
   "cell_type": "code",
   "execution_count": 32,
   "metadata": {},
   "outputs": [],
   "source": [
    "carder.quit_browser()"
   ]
  },
  {
   "cell_type": "code",
   "execution_count": 11,
   "metadata": {},
   "outputs": [],
   "source": [
    "carder.restart_browser()"
   ]
  },
  {
   "cell_type": "code",
   "execution_count": 12,
   "metadata": {
    "scrolled": true
   },
   "outputs": [
    {
     "data": {
      "text/plain": [
       "{'Average Market Price': 75.88,\n",
       " 'Average Lowest Price': 53.25,\n",
       " 'Cheapest Price': 6.0,\n",
       " 'Highest Price': 361.7}"
      ]
     },
     "execution_count": 12,
     "metadata": {},
     "output_type": "execute_result"
    }
   ],
   "source": [
    "carder.price_searcher('Maxx \"C\"')"
   ]
  },
  {
   "cell_type": "code",
   "execution_count": 13,
   "metadata": {},
   "outputs": [
    {
     "data": {
      "text/plain": [
       "{'Average Market Price': 20.78,\n",
       " 'Average Lowest Price': 18.5,\n",
       " 'Cheapest Price': 18.5,\n",
       " 'Highest Price': 20.78}"
      ]
     },
     "execution_count": 13,
     "metadata": {},
     "output_type": "execute_result"
    }
   ],
   "source": [
    "carder.price_searcher('Blackwing Full Armor Master')"
   ]
  },
  {
   "cell_type": "code",
   "execution_count": 14,
   "metadata": {},
   "outputs": [],
   "source": [
    "carder.set_card_prices(cards, duelist)"
   ]
  },
  {
   "cell_type": "code",
   "execution_count": 15,
   "metadata": {},
   "outputs": [
    {
     "data": {
      "text/html": [
       "<div>\n",
       "<style scoped>\n",
       "    .dataframe tbody tr th:only-of-type {\n",
       "        vertical-align: middle;\n",
       "    }\n",
       "\n",
       "    .dataframe tbody tr th {\n",
       "        vertical-align: top;\n",
       "    }\n",
       "\n",
       "    .dataframe thead th {\n",
       "        text-align: right;\n",
       "    }\n",
       "</style>\n",
       "<table border=\"1\" class=\"dataframe\">\n",
       "  <thead>\n",
       "    <tr style=\"text-align: right;\">\n",
       "      <th></th>\n",
       "      <th>Card Type</th>\n",
       "      <th>Competitive Status (TCG Advanced)</th>\n",
       "      <th>Reference</th>\n",
       "      <th>Average Market Price</th>\n",
       "      <th>Average Lowest Price</th>\n",
       "      <th>Cheapest Price</th>\n",
       "      <th>Highest Price</th>\n",
       "    </tr>\n",
       "    <tr>\n",
       "      <th>Card Name</th>\n",
       "      <th></th>\n",
       "      <th></th>\n",
       "      <th></th>\n",
       "      <th></th>\n",
       "      <th></th>\n",
       "      <th></th>\n",
       "      <th></th>\n",
       "    </tr>\n",
       "  </thead>\n",
       "  <tbody>\n",
       "    <tr>\n",
       "      <th>Cyber Dragon</th>\n",
       "      <td>Monster</td>\n",
       "      <td>Unlimited</td>\n",
       "      <td>https://yugioh.fandom.com/wiki/Cyber_Dragon</td>\n",
       "      <td>1.84</td>\n",
       "      <td>0.73</td>\n",
       "      <td>0.05</td>\n",
       "      <td>12.91</td>\n",
       "    </tr>\n",
       "    <tr>\n",
       "      <th>Dark Simorgh</th>\n",
       "      <td>Monster</td>\n",
       "      <td>Unlimited</td>\n",
       "      <td>https://yugioh.fandom.com/wiki/Dark_Simorgh</td>\n",
       "      <td>5.87</td>\n",
       "      <td>2.79</td>\n",
       "      <td>1.10</td>\n",
       "      <td>9.67</td>\n",
       "    </tr>\n",
       "  </tbody>\n",
       "</table>\n",
       "</div>"
      ],
      "text/plain": [
       "             Card Type Competitive Status (TCG Advanced)  \\\n",
       "Card Name                                                  \n",
       "Cyber Dragon   Monster                         Unlimited   \n",
       "Dark Simorgh   Monster                         Unlimited   \n",
       "\n",
       "                                                Reference  \\\n",
       "Card Name                                                   \n",
       "Cyber Dragon  https://yugioh.fandom.com/wiki/Cyber_Dragon   \n",
       "Dark Simorgh  https://yugioh.fandom.com/wiki/Dark_Simorgh   \n",
       "\n",
       "              Average Market Price  Average Lowest Price  Cheapest Price  \\\n",
       "Card Name                                                                  \n",
       "Cyber Dragon                  1.84                  0.73            0.05   \n",
       "Dark Simorgh                  5.87                  2.79            1.10   \n",
       "\n",
       "              Highest Price  \n",
       "Card Name                    \n",
       "Cyber Dragon          12.91  \n",
       "Dark Simorgh           9.67  "
      ]
     },
     "execution_count": 15,
     "metadata": {},
     "output_type": "execute_result"
    }
   ],
   "source": [
    "carder.get_combined_df()"
   ]
  },
  {
   "cell_type": "code",
   "execution_count": 16,
   "metadata": {},
   "outputs": [
    {
     "data": {
      "text/html": [
       "<div>\n",
       "<style scoped>\n",
       "    .dataframe tbody tr th:only-of-type {\n",
       "        vertical-align: middle;\n",
       "    }\n",
       "\n",
       "    .dataframe tbody tr th {\n",
       "        vertical-align: top;\n",
       "    }\n",
       "\n",
       "    .dataframe thead th {\n",
       "        text-align: right;\n",
       "    }\n",
       "</style>\n",
       "<table border=\"1\" class=\"dataframe\">\n",
       "  <thead>\n",
       "    <tr style=\"text-align: right;\">\n",
       "      <th></th>\n",
       "      <th>Average Market Price</th>\n",
       "      <th>Average Lowest Price</th>\n",
       "      <th>Cheapest Price</th>\n",
       "      <th>Highest Price</th>\n",
       "    </tr>\n",
       "  </thead>\n",
       "  <tbody>\n",
       "    <tr>\n",
       "      <th>Cyber Dragon</th>\n",
       "      <td>1.84</td>\n",
       "      <td>0.73</td>\n",
       "      <td>0.05</td>\n",
       "      <td>12.91</td>\n",
       "    </tr>\n",
       "    <tr>\n",
       "      <th>Dark Simorgh</th>\n",
       "      <td>5.87</td>\n",
       "      <td>2.79</td>\n",
       "      <td>1.10</td>\n",
       "      <td>9.67</td>\n",
       "    </tr>\n",
       "  </tbody>\n",
       "</table>\n",
       "</div>"
      ],
      "text/plain": [
       "              Average Market Price  Average Lowest Price  Cheapest Price  \\\n",
       "Cyber Dragon                  1.84                  0.73            0.05   \n",
       "Dark Simorgh                  5.87                  2.79            1.10   \n",
       "\n",
       "              Highest Price  \n",
       "Cyber Dragon          12.91  \n",
       "Dark Simorgh           9.67  "
      ]
     },
     "execution_count": 16,
     "metadata": {},
     "output_type": "execute_result"
    }
   ],
   "source": [
    "carder.get_card_prices()"
   ]
  },
  {
   "cell_type": "code",
   "execution_count": 17,
   "metadata": {},
   "outputs": [
    {
     "data": {
      "text/plain": [
       "{'Average Market Price': 0.55,\n",
       " 'Average Lowest Price': 0.15,\n",
       " 'Cheapest Price': 0.15,\n",
       " 'Highest Price': 0.55}"
      ]
     },
     "execution_count": 17,
     "metadata": {},
     "output_type": "execute_result"
    }
   ],
   "source": [
    "carder.price_searcher('Astrograph Sorcerer')"
   ]
  },
  {
   "cell_type": "code",
   "execution_count": 18,
   "metadata": {},
   "outputs": [
    {
     "data": {
      "text/html": [
       "<div>\n",
       "<style scoped>\n",
       "    .dataframe tbody tr th:only-of-type {\n",
       "        vertical-align: middle;\n",
       "    }\n",
       "\n",
       "    .dataframe tbody tr th {\n",
       "        vertical-align: top;\n",
       "    }\n",
       "\n",
       "    .dataframe thead th {\n",
       "        text-align: right;\n",
       "    }\n",
       "</style>\n",
       "<table border=\"1\" class=\"dataframe\">\n",
       "  <thead>\n",
       "    <tr style=\"text-align: right;\">\n",
       "      <th></th>\n",
       "      <th>Card Name</th>\n",
       "    </tr>\n",
       "  </thead>\n",
       "  <tbody>\n",
       "    <tr>\n",
       "      <th>7448</th>\n",
       "      <td>Dark Simorgh</td>\n",
       "    </tr>\n",
       "    <tr>\n",
       "      <th>4466</th>\n",
       "      <td>Cyber Dragon</td>\n",
       "    </tr>\n",
       "    <tr>\n",
       "      <th>4466</th>\n",
       "      <td>Cyber Dragon</td>\n",
       "    </tr>\n",
       "  </tbody>\n",
       "</table>\n",
       "</div>"
      ],
      "text/plain": [
       "         Card Name\n",
       "7448  Dark Simorgh\n",
       "4466  Cyber Dragon\n",
       "4466  Cyber Dragon"
      ]
     },
     "execution_count": 18,
     "metadata": {},
     "output_type": "execute_result"
    }
   ],
   "source": [
    "duelist.search_card_name(cards)['Card Name'].to_frame()"
   ]
  },
  {
   "cell_type": "code",
   "execution_count": 19,
   "metadata": {},
   "outputs": [],
   "source": [
    "class BuyingTool(CardPriceScraper):\n",
    "    \"\"\"\n",
    "    Child class of CardPriceScraper that serves as a interface to return various price statistics\n",
    "    of cards that the user is trying to buy based on the quantity of each card that is going to \n",
    "    be purchased\n",
    "    \"\"\"\n",
    "    def __init__(self, duelist, *cards_to_buy):\n",
    "        \"\"\"\n",
    "        Parameters:\n",
    "        -----------\n",
    "        duelist: DbHandler()\n",
    "            A user-defined object from the ygfandom module is required to access the specific\n",
    "            yugioh card database file for checking the names of cards passed in cards_to_buy\n",
    "        \n",
    "        cards_to_buy: tuple of 2-element tuples\n",
    "            first element is the card name and second element is the quantity to be bought\n",
    "            \n",
    "        Variables:\n",
    "        ----------\n",
    "        Public:\n",
    "            driver: webdriver.Chrome() (from Parent Class)\n",
    "                The driver that opens the Chrome browser from the Selenium Package\n",
    "            \n",
    "            cards_dict: dict\n",
    "                Dictionary of the name of cards interested in being purchased with their\n",
    "                quantities\n",
    "                \n",
    "                Keys are name of cards and values are the quantities\n",
    "        \n",
    "        Private:\n",
    "            card_prices_df: DataFrame() (from Parent Class)\n",
    "                Dataframe that provides a list of price statistics for specified cards\n",
    "                \n",
    "            combined_df: DataFrame() (from Parent Class)\n",
    "                Dataframe that merges the card_prices_df and a subset of the yugioh card database\n",
    "                that includes the columns: Card Type, Competitive Status, and Reference\n",
    "                \n",
    "            normalprice_df: DataFrame() \n",
    "                Dataframe that contains the Normal price statistics of the cards with their \n",
    "                purchased quantities\n",
    "            \n",
    "            totalprice_df: DataFrame()\n",
    "                Dataframe that contains the Total price statistics of the cards with their \n",
    "                purchased quantities\n",
    "                \n",
    "            cumulative_df: DataFrame()\n",
    "                Dataframe that contains the summation of Total price statistics of each card, \n",
    "                multiplied by their purchased quantities\n",
    "                \n",
    "                Represents the total amount of money the user will spend if they decide to go \n",
    "                through with their choice  \n",
    "        \"\"\"\n",
    "        super().__init__()\n",
    "        self.cards_dict = {}\n",
    "        self.set_buying_dfs(duelist, cards_to_buy)\n",
    "        self.__normalprice_df = self.get_normalprice_df()\n",
    "        self.__totalprice_df = self.get_totalprice_df()\n",
    "        self.__cumulative_df = self.get_cumulative_df()\n",
    "        \n",
    "        \n",
    "    def set_buying_dfs(self, duelist, cards_to_buy):\n",
    "        \"\"\"\n",
    "        Set method that takes in a DbHandler() object from ygfandom module and sets\n",
    "        multiple dataframes containing the cards to be purchased, their quantities and \n",
    "        the different types of prices\n",
    "        \n",
    "        Parameters:\n",
    "        -----------\n",
    "        duelist: DbHandler()\n",
    "            A user-defined object from the ygfandom module is required to access the specific\n",
    "            yugioh card datbase file for getting the prices of cards to be purchased\n",
    "        \n",
    "        cards_to_buy: iterable of 2-element tuples\n",
    "            first element is the card name and second element is the quantity to be bought\n",
    "        \"\"\"\n",
    "        for cards in cards_to_buy:\n",
    "            self.cards_dict[cards[0]] = cards[1]\n",
    "        card_names = self.cards_dict.keys()\n",
    "        quantities = self.cards_dict.values()\n",
    "        \n",
    "        # Block of code to set the normal_price dataframe, containing the Normal price statistics\n",
    "        # of the cards with their purchased quantities \n",
    "        super().set_card_prices(card_names, duelist)\n",
    "        self.__normalprice_df = super().get_card_prices()\n",
    "        if len(self.cards_dict) != 0:\n",
    "            self.__normalprice_df['Quantity'] = quantities\n",
    "        \n",
    "        # Block of code to set the total_price dataframe, containing the Total price statistics\n",
    "        # of the cards with their purchased quantities\n",
    "        self.__totalprice_df = self.__normalprice_df.copy()\n",
    "        for col in self.__totalprice_df.columns:\n",
    "            if col != 'Quantity':\n",
    "                new_col = 'Total' + '(' + col + ')'\n",
    "                self.__totalprice_df.rename(columns = {col: new_col}, inplace = True)\n",
    "                self.__totalprice_df[new_col] = self.__totalprice_df.apply(lambda x: x[new_col] * x['Quantity'], axis = 1)\n",
    "    \n",
    "        # Block of code to set the cummulative dataframe that contains the summation of Total\n",
    "        # price statistics of each card, multiplied by their purchased quantities. These statistics\n",
    "        # reflect the total amount of money the user will spend if they decide to go through with \n",
    "        # their choice\n",
    "        if len(self.__totalprice_df) != 0:\n",
    "            self.__cumulative_df = ( self.__totalprice_df.sum()\n",
    "                                                         .to_frame()\n",
    "                                                         .rename(columns = {0: 'Cumulative Total'})\n",
    "                                                         .transpose()\n",
    "                                                         .rename(columns = {'Quantity': 'Total no. of cards'}) )\n",
    "            self.__cumulative_df['Total no. of cards'] = self.__cumulative_df['Total no. of cards'].astype('int32')\n",
    "        else:\n",
    "            self.__cumulative_df = pd.DataFrame()\n",
    "    \n",
    "    def get_normalprice_df(self):\n",
    "        \"\"\"\n",
    "        Returns the normalprice dataframe which contains the Normal price statistics\n",
    "        of the cards with their purchased quantities \n",
    "        \"\"\"\n",
    "        return self.__normalprice_df\n",
    "    \n",
    "    def get_totalprice_df(self):\n",
    "        \"\"\"\n",
    "        Returns the totalprice dataframe which contains the Total price statistics\n",
    "        of the cards with their purchased quantities\n",
    "        \"\"\"\n",
    "        return self.__totalprice_df\n",
    "    \n",
    "    def get_cumulative_df(self):\n",
    "        \"\"\"\n",
    "        Returns the cumulative dataframe which contains the summation of Total price statistics \n",
    "        of each card, multiplied by their purchased quantities\n",
    "        \n",
    "        These statistics reflect the total amount of money the user will spend if they decide \n",
    "        to go through with their choice\n",
    "        \"\"\"\n",
    "        return self.__cumulative_df\n",
    "        "
   ]
  },
  {
   "cell_type": "code",
   "execution_count": 20,
   "metadata": {},
   "outputs": [],
   "source": [
    "some_trial = BuyingTool(duelist, ('Cyber Dragon', 4))"
   ]
  },
  {
   "cell_type": "code",
   "execution_count": 21,
   "metadata": {},
   "outputs": [],
   "source": [
    "some_trial.quit_browser()"
   ]
  },
  {
   "cell_type": "code",
   "execution_count": 22,
   "metadata": {},
   "outputs": [],
   "source": [
    "some_trial.restart_browser()"
   ]
  },
  {
   "cell_type": "code",
   "execution_count": 23,
   "metadata": {},
   "outputs": [
    {
     "data": {
      "text/html": [
       "<div>\n",
       "<style scoped>\n",
       "    .dataframe tbody tr th:only-of-type {\n",
       "        vertical-align: middle;\n",
       "    }\n",
       "\n",
       "    .dataframe tbody tr th {\n",
       "        vertical-align: top;\n",
       "    }\n",
       "\n",
       "    .dataframe thead th {\n",
       "        text-align: right;\n",
       "    }\n",
       "</style>\n",
       "<table border=\"1\" class=\"dataframe\">\n",
       "  <thead>\n",
       "    <tr style=\"text-align: right;\">\n",
       "      <th></th>\n",
       "      <th>Average Market Price</th>\n",
       "      <th>Average Lowest Price</th>\n",
       "      <th>Cheapest Price</th>\n",
       "      <th>Highest Price</th>\n",
       "      <th>Quantity</th>\n",
       "    </tr>\n",
       "  </thead>\n",
       "  <tbody>\n",
       "    <tr>\n",
       "      <th>Cyber Dragon</th>\n",
       "      <td>0.99</td>\n",
       "      <td>0.63</td>\n",
       "      <td>0.05</td>\n",
       "      <td>3.01</td>\n",
       "      <td>5</td>\n",
       "    </tr>\n",
       "    <tr>\n",
       "      <th>Dark Simorgh</th>\n",
       "      <td>5.87</td>\n",
       "      <td>2.79</td>\n",
       "      <td>1.10</td>\n",
       "      <td>9.67</td>\n",
       "      <td>18</td>\n",
       "    </tr>\n",
       "  </tbody>\n",
       "</table>\n",
       "</div>"
      ],
      "text/plain": [
       "              Average Market Price  Average Lowest Price  Cheapest Price  \\\n",
       "Cyber Dragon                  0.99                  0.63            0.05   \n",
       "Dark Simorgh                  5.87                  2.79            1.10   \n",
       "\n",
       "              Highest Price  Quantity  \n",
       "Cyber Dragon           3.01         5  \n",
       "Dark Simorgh           9.67        18  "
      ]
     },
     "execution_count": 23,
     "metadata": {},
     "output_type": "execute_result"
    }
   ],
   "source": [
    "some_trial.set_buying_dfs(duelist, [('Dark Simorgh', 2), ('Cyber Dragon', 5), ('Dark Simorgh', 18)])\n",
    "some_trial.get_normalprice_df()"
   ]
  },
  {
   "cell_type": "code",
   "execution_count": 25,
   "metadata": {},
   "outputs": [
    {
     "data": {
      "text/html": [
       "<div>\n",
       "<style scoped>\n",
       "    .dataframe tbody tr th:only-of-type {\n",
       "        vertical-align: middle;\n",
       "    }\n",
       "\n",
       "    .dataframe tbody tr th {\n",
       "        vertical-align: top;\n",
       "    }\n",
       "\n",
       "    .dataframe thead th {\n",
       "        text-align: right;\n",
       "    }\n",
       "</style>\n",
       "<table border=\"1\" class=\"dataframe\">\n",
       "  <thead>\n",
       "    <tr style=\"text-align: right;\">\n",
       "      <th></th>\n",
       "      <th>Total(Average Market Price)</th>\n",
       "      <th>Total(Average Lowest Price)</th>\n",
       "      <th>Total(Cheapest Price)</th>\n",
       "      <th>Total(Highest Price)</th>\n",
       "      <th>Total no. of cards</th>\n",
       "    </tr>\n",
       "  </thead>\n",
       "  <tbody>\n",
       "    <tr>\n",
       "      <th>Cumulative Total</th>\n",
       "      <td>110.61</td>\n",
       "      <td>53.37</td>\n",
       "      <td>20.05</td>\n",
       "      <td>189.11</td>\n",
       "      <td>23</td>\n",
       "    </tr>\n",
       "  </tbody>\n",
       "</table>\n",
       "</div>"
      ],
      "text/plain": [
       "                  Total(Average Market Price)  Total(Average Lowest Price)  \\\n",
       "Cumulative Total                       110.61                        53.37   \n",
       "\n",
       "                  Total(Cheapest Price)  Total(Highest Price)  \\\n",
       "Cumulative Total                  20.05                189.11   \n",
       "\n",
       "                  Total no. of cards  \n",
       "Cumulative Total                  23  "
      ]
     },
     "execution_count": 25,
     "metadata": {},
     "output_type": "execute_result"
    }
   ],
   "source": [
    "some_trial.get_cumulative_df()"
   ]
  },
  {
   "cell_type": "code",
   "execution_count": 26,
   "metadata": {},
   "outputs": [
    {
     "data": {
      "text/html": [
       "<div>\n",
       "<style scoped>\n",
       "    .dataframe tbody tr th:only-of-type {\n",
       "        vertical-align: middle;\n",
       "    }\n",
       "\n",
       "    .dataframe tbody tr th {\n",
       "        vertical-align: top;\n",
       "    }\n",
       "\n",
       "    .dataframe thead th {\n",
       "        text-align: right;\n",
       "    }\n",
       "</style>\n",
       "<table border=\"1\" class=\"dataframe\">\n",
       "  <thead>\n",
       "    <tr style=\"text-align: right;\">\n",
       "      <th></th>\n",
       "      <th>Total(Average Market Price)</th>\n",
       "      <th>Total(Average Lowest Price)</th>\n",
       "      <th>Total(Cheapest Price)</th>\n",
       "      <th>Total(Highest Price)</th>\n",
       "      <th>Quantity</th>\n",
       "    </tr>\n",
       "  </thead>\n",
       "  <tbody>\n",
       "    <tr>\n",
       "      <th>Cyber Dragon</th>\n",
       "      <td>4.95</td>\n",
       "      <td>3.15</td>\n",
       "      <td>0.25</td>\n",
       "      <td>15.05</td>\n",
       "      <td>5</td>\n",
       "    </tr>\n",
       "    <tr>\n",
       "      <th>Dark Simorgh</th>\n",
       "      <td>105.66</td>\n",
       "      <td>50.22</td>\n",
       "      <td>19.80</td>\n",
       "      <td>174.06</td>\n",
       "      <td>18</td>\n",
       "    </tr>\n",
       "  </tbody>\n",
       "</table>\n",
       "</div>"
      ],
      "text/plain": [
       "              Total(Average Market Price)  Total(Average Lowest Price)  \\\n",
       "Cyber Dragon                         4.95                         3.15   \n",
       "Dark Simorgh                       105.66                        50.22   \n",
       "\n",
       "              Total(Cheapest Price)  Total(Highest Price)  Quantity  \n",
       "Cyber Dragon                   0.25                 15.05         5  \n",
       "Dark Simorgh                  19.80                174.06        18  "
      ]
     },
     "execution_count": 26,
     "metadata": {},
     "output_type": "execute_result"
    }
   ],
   "source": [
    "some_trial.get_totalprice_df()"
   ]
  },
  {
   "cell_type": "code",
   "execution_count": 182,
   "metadata": {},
   "outputs": [
    {
     "data": {
      "text/html": [
       "<div>\n",
       "<style scoped>\n",
       "    .dataframe tbody tr th:only-of-type {\n",
       "        vertical-align: middle;\n",
       "    }\n",
       "\n",
       "    .dataframe tbody tr th {\n",
       "        vertical-align: top;\n",
       "    }\n",
       "\n",
       "    .dataframe thead th {\n",
       "        text-align: right;\n",
       "    }\n",
       "</style>\n",
       "<table border=\"1\" class=\"dataframe\">\n",
       "  <thead>\n",
       "    <tr style=\"text-align: right;\">\n",
       "      <th></th>\n",
       "      <th>Total(Average Market Price)</th>\n",
       "      <th>Total(Average Lowest Price)</th>\n",
       "      <th>Total(Cheapest Price)</th>\n",
       "      <th>Total(Highest Price)</th>\n",
       "      <th>Total no. of cards</th>\n",
       "    </tr>\n",
       "  </thead>\n",
       "  <tbody>\n",
       "    <tr>\n",
       "      <th>Cummulative Total</th>\n",
       "      <td>126.31</td>\n",
       "      <td>58.97</td>\n",
       "      <td>20.5</td>\n",
       "      <td>238.61</td>\n",
       "      <td>23</td>\n",
       "    </tr>\n",
       "  </tbody>\n",
       "</table>\n",
       "</div>"
      ],
      "text/plain": [
       "                   Total(Average Market Price)  Total(Average Lowest Price)  \\\n",
       "Cummulative Total                       126.31                        58.97   \n",
       "\n",
       "                   Total(Cheapest Price)  Total(Highest Price)  \\\n",
       "Cummulative Total                   20.5                238.61   \n",
       "\n",
       "                   Total no. of cards  \n",
       "Cummulative Total                  23  "
      ]
     },
     "execution_count": 182,
     "metadata": {},
     "output_type": "execute_result"
    }
   ],
   "source": [
    "z = __total_df.sum().to_frame().rename(columns = {0: 'Cummulative Total'}).transpose().rename(columns = {'Quantity': 'Total no. of cards'})\n",
    "z['Total no. of cards'] = z['Total no. of cards'].astype('int32')\n",
    "z"
   ]
  },
  {
   "cell_type": "code",
   "execution_count": 152,
   "metadata": {},
   "outputs": [
    {
     "name": "stdout",
     "output_type": "stream",
     "text": [
      "<class 'pandas.core.frame.DataFrame'>\n",
      "Index: 2 entries, Dark Simorgh to Cyber Dragon\n",
      "Data columns (total 5 columns):\n",
      " #   Column                Non-Null Count  Dtype  \n",
      "---  ------                --------------  -----  \n",
      " 0   Average Market Price  2 non-null      float64\n",
      " 1   Average Lowest Price  2 non-null      float64\n",
      " 2   Cheapest Price        2 non-null      float64\n",
      " 3   Highest Price         2 non-null      float64\n",
      " 4   Quantity              2 non-null      int32  \n",
      "dtypes: float64(4), int32(1)\n",
      "memory usage: 88.0+ bytes\n"
     ]
    }
   ],
   "source": [
    "some_trial.get_buying_df().info(verbose = True)"
   ]
  },
  {
   "cell_type": "code",
   "execution_count": 134,
   "metadata": {},
   "outputs": [],
   "source": [
    "some_shit = BuyingTool(duelist, ('Dark Simorgh', 2), ('Cyber Dragon', 5))"
   ]
  },
  {
   "cell_type": "code",
   "execution_count": 58,
   "metadata": {},
   "outputs": [
    {
     "data": {
      "text/plain": [
       "['Dark Simorgh', 'Cyber Dragon']"
      ]
     },
     "execution_count": 58,
     "metadata": {},
     "output_type": "execute_result"
    }
   ],
   "source": [
    "some_shit.card_names"
   ]
  },
  {
   "cell_type": "code",
   "execution_count": 59,
   "metadata": {},
   "outputs": [
    {
     "data": {
      "text/plain": [
       "[2, 5]"
      ]
     },
     "execution_count": 59,
     "metadata": {},
     "output_type": "execute_result"
    }
   ],
   "source": [
    "some_shit.quantities"
   ]
  },
  {
   "cell_type": "code",
   "execution_count": 135,
   "metadata": {},
   "outputs": [
    {
     "data": {
      "text/html": [
       "<div>\n",
       "<style scoped>\n",
       "    .dataframe tbody tr th:only-of-type {\n",
       "        vertical-align: middle;\n",
       "    }\n",
       "\n",
       "    .dataframe tbody tr th {\n",
       "        vertical-align: top;\n",
       "    }\n",
       "\n",
       "    .dataframe thead th {\n",
       "        text-align: right;\n",
       "    }\n",
       "</style>\n",
       "<table border=\"1\" class=\"dataframe\">\n",
       "  <thead>\n",
       "    <tr style=\"text-align: right;\">\n",
       "      <th></th>\n",
       "      <th>Average Market Price</th>\n",
       "      <th>Average Lowest Price</th>\n",
       "      <th>Cheapest Price</th>\n",
       "      <th>Highest Price</th>\n",
       "      <th>Quantity</th>\n",
       "    </tr>\n",
       "  </thead>\n",
       "  <tbody>\n",
       "    <tr>\n",
       "      <th>Dark Simorgh</th>\n",
       "      <td>5.87</td>\n",
       "      <td>2.74</td>\n",
       "      <td>1.00</td>\n",
       "      <td>9.67</td>\n",
       "      <td>2</td>\n",
       "    </tr>\n",
       "    <tr>\n",
       "      <th>Cyber Dragon</th>\n",
       "      <td>2.30</td>\n",
       "      <td>0.82</td>\n",
       "      <td>0.14</td>\n",
       "      <td>12.91</td>\n",
       "      <td>5</td>\n",
       "    </tr>\n",
       "  </tbody>\n",
       "</table>\n",
       "</div>"
      ],
      "text/plain": [
       "              Average Market Price  Average Lowest Price  Cheapest Price  \\\n",
       "Dark Simorgh                  5.87                  2.74            1.00   \n",
       "Cyber Dragon                  2.30                  0.82            0.14   \n",
       "\n",
       "              Highest Price  Quantity  \n",
       "Dark Simorgh           9.67         2  \n",
       "Cyber Dragon          12.91         5  "
      ]
     },
     "execution_count": 135,
     "metadata": {},
     "output_type": "execute_result"
    }
   ],
   "source": [
    "some_shit.get_buying_df()"
   ]
  },
  {
   "cell_type": "code",
   "execution_count": 60,
   "metadata": {},
   "outputs": [
    {
     "data": {
      "text/html": [
       "<div>\n",
       "<style scoped>\n",
       "    .dataframe tbody tr th:only-of-type {\n",
       "        vertical-align: middle;\n",
       "    }\n",
       "\n",
       "    .dataframe tbody tr th {\n",
       "        vertical-align: top;\n",
       "    }\n",
       "\n",
       "    .dataframe thead th {\n",
       "        text-align: right;\n",
       "    }\n",
       "</style>\n",
       "<table border=\"1\" class=\"dataframe\">\n",
       "  <thead>\n",
       "    <tr style=\"text-align: right;\">\n",
       "      <th></th>\n",
       "      <th>Card Name</th>\n",
       "      <th>Quantity</th>\n",
       "    </tr>\n",
       "  </thead>\n",
       "  <tbody>\n",
       "    <tr>\n",
       "      <th>7448</th>\n",
       "      <td>Dark Simorgh</td>\n",
       "      <td>2</td>\n",
       "    </tr>\n",
       "    <tr>\n",
       "      <th>4466</th>\n",
       "      <td>Cyber Dragon</td>\n",
       "      <td>5</td>\n",
       "    </tr>\n",
       "  </tbody>\n",
       "</table>\n",
       "</div>"
      ],
      "text/plain": [
       "         Card Name  Quantity\n",
       "7448  Dark Simorgh         2\n",
       "4466  Cyber Dragon         5"
      ]
     },
     "execution_count": 60,
     "metadata": {},
     "output_type": "execute_result"
    }
   ],
   "source": [
    "some_shit.set_buying_df(duelist)"
   ]
  },
  {
   "cell_type": "code",
   "execution_count": 33,
   "metadata": {},
   "outputs": [],
   "source": [
    "def func():\n",
    "    a = 1\n"
   ]
  },
  {
   "cell_type": "code",
   "execution_count": 34,
   "metadata": {},
   "outputs": [],
   "source": [
    "b = func\n"
   ]
  },
  {
   "cell_type": "code",
   "execution_count": 35,
   "metadata": {},
   "outputs": [
    {
     "data": {
      "text/plain": [
       "<function __main__.func()>"
      ]
     },
     "execution_count": 35,
     "metadata": {},
     "output_type": "execute_result"
    }
   ],
   "source": [
    "b"
   ]
  },
  {
   "cell_type": "code",
   "execution_count": 36,
   "metadata": {},
   "outputs": [
    {
     "data": {
      "text/plain": [
       "False"
      ]
     },
     "execution_count": 36,
     "metadata": {},
     "output_type": "execute_result"
    }
   ],
   "source": [
    "b is None"
   ]
  },
  {
   "cell_type": "code",
   "execution_count": 37,
   "metadata": {},
   "outputs": [],
   "source": [
    "a = None"
   ]
  },
  {
   "cell_type": "code",
   "execution_count": 39,
   "metadata": {},
   "outputs": [
    {
     "data": {
      "text/plain": [
       "type"
      ]
     },
     "execution_count": 39,
     "metadata": {},
     "output_type": "execute_result"
    }
   ],
   "source": [
    "type(type(a))"
   ]
  },
  {
   "cell_type": "code",
   "execution_count": null,
   "metadata": {},
   "outputs": [],
   "source": []
  }
 ],
 "metadata": {
  "kernelspec": {
   "display_name": "Python 3",
   "language": "python",
   "name": "python3"
  },
  "language_info": {
   "codemirror_mode": {
    "name": "ipython",
    "version": 3
   },
   "file_extension": ".py",
   "mimetype": "text/x-python",
   "name": "python",
   "nbconvert_exporter": "python",
   "pygments_lexer": "ipython3",
   "version": "3.7.7"
  }
 },
 "nbformat": 4,
 "nbformat_minor": 4
}
